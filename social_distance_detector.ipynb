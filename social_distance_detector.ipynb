{
  "nbformat": 4,
  "nbformat_minor": 0,
  "metadata": {
    "colab": {
      "name": "social_distance_detector.ipynb",
      "provenance": [],
      "collapsed_sections": []
    },
    "kernelspec": {
      "name": "python3",
      "display_name": "Python 3"
    },
    "accelerator": "GPU"
  },
  "cells": [
    {
      "cell_type": "code",
      "metadata": {
        "id": "2Wf70Yez_c-u",
        "colab_type": "code",
        "colab": {}
      },
      "source": [
        "%cd drive/My\\ Drive/social_distancing\n",
        "!ls"
      ],
      "execution_count": 0,
      "outputs": []
    },
    {
      "cell_type": "code",
      "metadata": {
        "id": "xd0_ykmY_k3t",
        "colab_type": "code",
        "colab": {}
      },
      "source": [
        "import numpy as np\n",
        "import cv2\n",
        "from scipy.spatial import distance as dist\n",
        "import imutils\n",
        "from google.colab.patches import cv2_imshow\n",
        "import os"
      ],
      "execution_count": 0,
      "outputs": []
    },
    {
      "cell_type": "code",
      "metadata": {
        "id": "xjH9ir87J9re",
        "colab_type": "code",
        "colab": {}
      },
      "source": [
        "print(cv2.__version__)"
      ],
      "execution_count": 0,
      "outputs": []
    },
    {
      "cell_type": "code",
      "metadata": {
        "id": "jjZ8ZsaqJW1K",
        "colab_type": "code",
        "colab": {}
      },
      "source": [
        "!pip install --upgrade opencv-python"
      ],
      "execution_count": 0,
      "outputs": []
    },
    {
      "cell_type": "code",
      "metadata": {
        "id": "6KT3BCvB_vhE",
        "colab_type": "code",
        "colab": {}
      },
      "source": [
        "def detect_humans(frame,model,layer,min_confidence,nms_threshold,person_idx=0):\n",
        "    (h,w)=frame.shape[:2]\n",
        "    results=[]\n",
        "\n",
        "    blob=cv2.dnn.blobFromImage(frame,1/255.0,(416,416),swapRB=True,crop=False)\n",
        "    model.setInput(blob)\n",
        "    outputs=model.forward(layer)\n",
        "\n",
        "    bboxes=[]\n",
        "    centroids=[]\n",
        "    confidence_scores=[]\n",
        "\n",
        "    for output in outputs:\n",
        "        for detection in output:\n",
        "            scores=detection[5:]\n",
        "            class_id=np.argmax(scores)\n",
        "            confidence=scores[class_id]\n",
        "\n",
        "            if class_id==person_idx and confidence>min_confidence:\n",
        "                bbox=detection[0:4]*np.array([w,h,w,h])\n",
        "                (centre_x,centre_y,width,height)=bbox.astype('int')\n",
        "                x=int(centre_x-(width/2))\n",
        "                y=int(centre_y-(height/2))\n",
        "                bboxes.append([x,y,int(width),int(height)])\n",
        "                centroids.append((centre_x,centre_y))\n",
        "                confidence_scores.append(float(confidence))\n",
        "    \n",
        "    idxs=cv2.dnn.NMSBoxes(bboxes,confidence_scores,min_confidence,nms_threshold)\n",
        "    if len(idxs)>0:\n",
        "        for i in idxs.flatten():\n",
        "            (x,y)=(bboxes[i][0],bboxes[i][1])\n",
        "            (w,h)=(bboxes[i][2],bboxes[i][3])\n",
        "            r=(confidence_scores[i],(x,y,x+w,y+h),centroids[i])\n",
        "            results.append(r)\n",
        "    return results"
      ],
      "execution_count": 0,
      "outputs": []
    },
    {
      "cell_type": "code",
      "metadata": {
        "id": "HRIZs2f6DgZC",
        "colab_type": "code",
        "colab": {}
      },
      "source": [
        "model_path='./yolo'\n",
        "min_conf=0.3\n",
        "nms_threshold=0.3\n",
        "min_dist=50\n",
        "input_video='pedestrians.mp4'\n",
        "output_dir=os.getcwd()"
      ],
      "execution_count": 0,
      "outputs": []
    },
    {
      "cell_type": "code",
      "metadata": {
        "id": "tAnshOUxD5bZ",
        "colab_type": "code",
        "colab": {}
      },
      "source": [
        "labels_path=os.path.sep.join([model_path,'coco.names'])\n",
        "labels=open(labels_path).read().strip().split('\\n')\n",
        "weights_path=os.path.sep.join([model_path,'yolov3.weights'])\n",
        "config_path=os.path.sep.join([model_path,'yolov3.cfg'])"
      ],
      "execution_count": 0,
      "outputs": []
    },
    {
      "cell_type": "code",
      "metadata": {
        "id": "OnypAuapEe_e",
        "colab_type": "code",
        "colab": {}
      },
      "source": [
        "model=cv2.dnn.readNetFromDarknet(config_path,weights_path)\n",
        "model.setPreferableBackend(cv2.dnn.DNN_BACKEND_CUDA)\n",
        "model.setPreferableTarget(cv2.dnn.DNN_TARGET_CUDA)"
      ],
      "execution_count": 0,
      "outputs": []
    },
    {
      "cell_type": "code",
      "metadata": {
        "id": "k8zzb2clE35Y",
        "colab_type": "code",
        "colab": {}
      },
      "source": [
        "layers=model.getLayerNames()\n",
        "layer=[layers[i[0]-1] for i in model.getUnconnectedOutLayers()]\n",
        "vs=cv2.VideoCapture(input_video)\n",
        "writer=None\n",
        "while True:\n",
        "    (grabbed,frame)=vs.read()\n",
        "    if not grabbed:\n",
        "        break\n",
        "    \n",
        "    frame=imutils.resize(frame,width=700)\n",
        "    results=detect_humans(frame,model,layer,min_conf,nms_threshold,person_idx=labels.index('person'))\n",
        "\n",
        "    sd_violate=set()\n",
        "    if len(results)>=2:\n",
        "        centroids=np.array([r[2] for r in results])\n",
        "        d=dist.cdist(centroids,centroids,metric=\"euclidean\")\n",
        "        for i in range(0,d.shape[1]):\n",
        "            for j in range(i+1,d.shape[1]):\n",
        "                if d[i,j]<min_dist:\n",
        "                    sd_violate.add(i)\n",
        "                    sd_violate.add(j)\n",
        "    \n",
        "    for(i,(prob,bbox,centroid)) in enumerate(results):\n",
        "        (start_x,start_y,end_x,end_y)=bbox\n",
        "        (c_x,c_y)=centroid\n",
        "        colour=(0,255,0)\n",
        "        if i in sd_violate:\n",
        "            colour=(0,0,255)\n",
        "        cv2.rectangle(frame,(start_x,start_y),(end_x,end_y),colour,2)\n",
        "        cv2.circle(frame,(c_x,c_y),5,colour,1)\n",
        "    \n",
        "    cv2_imshow(frame)\n",
        "    key=cv2.waitKey(1) & 0xFF\n",
        "    if key==ord('q'):\n",
        "        break\n",
        "\n",
        "    fourcc=cv2.VideoWriter_fourcc(*\"MJPG\")\n",
        "    writer=cv2.VideoWriter(output_dir,fourcc,25,(frame.shape[1],frame.shape[0]),True)\n",
        "\n",
        "    if writer is not None:\n",
        "        writer.write(frame)"
      ],
      "execution_count": 0,
      "outputs": []
    }
  ]
}